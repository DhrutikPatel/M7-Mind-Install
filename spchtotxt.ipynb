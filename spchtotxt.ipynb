{
 "metadata": {
  "language_info": {
   "codemirror_mode": {
    "name": "ipython",
    "version": 3
   },
   "file_extension": ".py",
   "mimetype": "text/x-python",
   "name": "python",
   "nbconvert_exporter": "python",
   "pygments_lexer": "ipython3",
   "version": "3.9.1-final"
  },
  "orig_nbformat": 2,
  "kernelspec": {
   "name": "python38232bit1f8dc49e2b4c4c7596f21e9056cb5646",
   "display_name": "Python 3.8.2 32-bit",
   "language": "python"
  }
 },
 "nbformat": 4,
 "nbformat_minor": 2,
 "cells": [
  {
   "cell_type": "code",
   "execution_count": 1,
   "metadata": {},
   "outputs": [],
   "source": [
    "import speech_recognition as sr"
   ]
  },
  {
   "cell_type": "code",
   "execution_count": 13,
   "metadata": {},
   "outputs": [],
   "source": [
    "def speechToAudio(loc):\n",
    "    recognizer = sr.Recognizer()\n",
    "    with sr.AudioFile(loc) as src:\n",
    "        aud=recognizer.listen(src)\n",
    "    try:\n",
    "        text=recognizer.recognize_google(aud,language=\"en-US\")\n",
    "        print(text)\n",
    "    except Exception as ex:\n",
    "        print(ex)"
   ]
  },
  {
   "cell_type": "code",
   "execution_count": 16,
   "metadata": {},
   "outputs": [
    {
     "output_type": "stream",
     "name": "stdout",
     "text": [
      "1\n",
      "gift certificate to wrap a mass zigzag long time to start a graduation present the football theme sensodyne fresh lemon sauce for dinner with controls marshmallows and gas burner the taxicab rokana cause a traffic jam was gold bracelet for graduation present\n"
     ]
    }
   ],
   "source": [
    "speechToAudio(\"./sampleData/hi.wav\")"
   ]
  }
 ]
}